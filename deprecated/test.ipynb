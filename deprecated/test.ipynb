{
 "cells": [
  {
   "cell_type": "code",
   "execution_count": 9,
   "metadata": {},
   "outputs": [],
   "source": [
    "import pandas as pd\n",
    "df = pd.read_csv('../v2x_data/FinalCleanedDataIO.csv')"
   ]
  },
  {
   "cell_type": "code",
   "execution_count": 10,
   "metadata": {},
   "outputs": [
    {
     "data": {
      "text/plain": [
       "Unnamed: 0                     int64\n",
       "device                         int64\n",
       "endlatitude                  float64\n",
       "endlocaltime                   int64\n",
       "endlongitude                 float64\n",
       "filedate                       int64\n",
       "filetimeutc                    int64\n",
       "numbsmtx                     float64\n",
       "numinforms                   float64\n",
       "numintersectionencounters    float64\n",
       "numnormalbsmrx                 int64\n",
       "numwarnings                    int64\n",
       "startlatitude                float64\n",
       "startlocaltime               float64\n",
       "startlongitude               float64\n",
       "utctime                        int64\n",
       "uuid                          object\n",
       "tripid                        object\n",
       "tripdistance                 float64\n",
       "avgspeed                     float64\n",
       "utctime(datetime)             object\n",
       "tripdistance_miles           float64\n",
       "avgspeed_mph                 float64\n",
       "endlocaltime(datetime)        object\n",
       "startlocaltime(datetime)      object\n",
       "dtype: object"
      ]
     },
     "execution_count": 10,
     "metadata": {},
     "output_type": "execute_result"
    }
   ],
   "source": [
    "df.dtypes"
   ]
  },
  {
   "cell_type": "code",
   "execution_count": 15,
   "metadata": {},
   "outputs": [],
   "source": [
    "df['dayofweek'] = \\\n",
    "pd.to_datetime(df['utctime(datetime)']).dt.day_name()"
   ]
  },
  {
   "cell_type": "code",
   "execution_count": 27,
   "metadata": {},
   "outputs": [],
   "source": [
    "x = df.groupby(['dayofweek'])[\"avgspeed\"].mean()"
   ]
  },
  {
   "cell_type": "code",
   "execution_count": 29,
   "metadata": {},
   "outputs": [
    {
     "data": {
      "text/plain": [
       "dayofweek\n",
       "Friday       16.351277\n",
       "Monday       16.748769\n",
       "Saturday     12.240914\n",
       "Sunday       12.412507\n",
       "Thursday     18.089676\n",
       "Tuesday      17.423774\n",
       "Wednesday    17.757687\n",
       "Name: avgspeed, dtype: float64"
      ]
     },
     "execution_count": 29,
     "metadata": {},
     "output_type": "execute_result"
    }
   ],
   "source": [
    "x"
   ]
  },
  {
   "cell_type": "code",
   "execution_count": null,
   "metadata": {},
   "outputs": [],
   "source": [
    "x"
   ]
  }
 ],
 "metadata": {
  "kernelspec": {
   "display_name": ".venv",
   "language": "python",
   "name": "python3"
  },
  "language_info": {
   "codemirror_mode": {
    "name": "ipython",
    "version": 3
   },
   "file_extension": ".py",
   "mimetype": "text/x-python",
   "name": "python",
   "nbconvert_exporter": "python",
   "pygments_lexer": "ipython3",
   "version": "3.11.1"
  },
  "orig_nbformat": 4,
  "vscode": {
   "interpreter": {
    "hash": "5a10a022f8192c699760bb3c0a12ff54353d3e28845fc8c369fbc4b78a73b2dc"
   }
  }
 },
 "nbformat": 4,
 "nbformat_minor": 2
}
